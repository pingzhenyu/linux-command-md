{
 "cells": [
  {
   "cell_type": "code",
   "execution_count": null,
   "metadata": {},
   "outputs": [],
   "source": [
    "import cv2\n",
    "import os\n",
    "import glob\n",
    "\n",
    "SRC_FORMAT = \"jpg\"\n",
    "DST_FORMAT = \"jpg\""
   ]
  },
  {
   "cell_type": "code",
   "execution_count": null,
   "metadata": {},
   "outputs": [],
   "source": [
    "def renameImages(src_folder, dst_folder):\n",
    "    os.makedirs(dst_folder, exist_ok=True)\n",
    "    filenames = glob.glob(src_folder + \"/*.\" + SRC_FORMAT)\n",
    "    for i, filename in enumerate(filenames):\n",
    "        img = cv2.imread(filename)\n",
    "        height, width = img.shape[0], img.shape[1]\n",
    "         # 设置新的图片分辨率框架\n",
    "        width_new = 640\n",
    "        height_new = 426\n",
    "    # 判断图片的长宽比率\n",
    "        if width / height >= width_new / height_new:\n",
    "            img_new = cv2.resize(img, (width_new, int(height * width_new / width)))\n",
    "        else:\n",
    "            img_new = cv2.resize(img, (int(width * height_new / height), height_new))\n",
    "        \n",
    "        basename = \"\".join(os.path.basename(filename).split('.')[:-1])\n",
    "        new_name = dst_folder + \"/\" + basename + \".\" + DST_FORMAT\n",
    "        cv2.imwrite(new_name, img_new)\n",
    "        print(\"{}/{}: Save image to {}\".format(\n",
    "            i, len(filenames), new_name))"
   ]
  },
  {
   "cell_type": "code",
   "execution_count": null,
   "metadata": {},
   "outputs": [],
   "source": [
    "renameImages('D:/png', 'D:/jpg')"
   ]
  },
  {
   "cell_type": "code",
   "execution_count": null,
   "metadata": {},
   "outputs": [],
   "source": [
    "def img_resize(image):\n",
    "    height, width = image.shape[0], image.shape[1]\n",
    "    # 设置新的图片分辨率框架\n",
    "    width_new = 640\n",
    "    height_new = 426\n",
    "    # 判断图片的长宽比率\n",
    "    if width / height >= width_new / height_new:\n",
    "        img_new = cv2.resize(image, (width_new, int(height * width_new / width)))\n",
    "    else:\n",
    "        img_new = cv2.resize(image, (int(width * height_new / height), height_new))\n",
    "    return img_new"
   ]
  },
  {
   "cell_type": "code",
   "execution_count": null,
   "metadata": {},
   "outputs": [],
   "source": [
    "img = cv2.imread('D:/models/Bing_0003.jpeg')\n",
    "img_new = img_resize(img)\n",
    "print(img_new.shape)\n",
    "cv2.imwrite('D:/models/Bing_0004.jpeg', img_new)"
   ]
  },
  {
   "cell_type": "code",
   "execution_count": null,
   "metadata": {},
   "outputs": [],
   "source": [
    "import os\n",
    "import re\n",
    "import sys\n",
    "#为了示例方便，将待修改与当前工作目录取同一个\n",
    "def ReName():\n",
    "    fileList = os.listdir('D:/FallDataSet/JPEGImages')  #待修改文件夹\n",
    "    currentPath = os.getcwd()  #得到进程当前工作目录\n",
    "    os.chdir('D:/FallDataSet/JPEGImages')  #将当前工作目录修改为待修改文件夹的位置\n",
    "    for i in range(0,len(fileList)):\n",
    "        os.rename(fileList[i],str((\"2020_%06d\"%i))+'.'+'jpg')#文件重新命名\n",
    "    os.chdir(currentPath)  #改回程序运行前的工作目录\n",
    "    sys.stdin.flush()  #更新"
   ]
  },
  {
   "cell_type": "code",
   "execution_count": null,
   "metadata": {},
   "outputs": [],
   "source": [
    "ReName()"
   ]
  },
  {
   "cell_type": "code",
   "execution_count": 1,
   "metadata": {},
   "outputs": [],
   "source": [
    "import re\n",
    "import hashlib\n",
    "import six as _six\n",
    "import os\n",
    "import shutil"
   ]
  },
  {
   "cell_type": "code",
   "execution_count": 2,
   "metadata": {},
   "outputs": [],
   "source": [
    "def as_bytes(bytes_or_text, encoding='utf-8'):\n",
    "  \"\"\"Converts `bytearray`, `bytes`, or unicode python input types to `bytes`.\n",
    "  Uses utf-8 encoding for text by default.\n",
    "  Args:\n",
    "    bytes_or_text: A `bytearray`, `bytes`, `str`, or `unicode` object.\n",
    "    encoding: A string indicating the charset for encoding unicode.\n",
    "  Returns:\n",
    "    A `bytes` object.\n",
    "  Raises:\n",
    "    TypeError: If `bytes_or_text` is not a binary or unicode string.\n",
    "  \"\"\"\n",
    "  if isinstance(bytes_or_text, bytearray):\n",
    "    return bytes(bytes_or_text)\n",
    "  elif isinstance(bytes_or_text, _six.text_type):\n",
    "    return bytes_or_text.encode(encoding)\n",
    "  elif isinstance(bytes_or_text, bytes):\n",
    "    return bytes_or_text\n",
    "  else:\n",
    "    raise TypeError('Expected binary or unicode string, got %r' %\n",
    "                    (bytes_or_text,))\n"
   ]
  },
  {
   "cell_type": "code",
   "execution_count": 3,
   "metadata": {},
   "outputs": [],
   "source": [
    "SRC_DR = 'D:/FallDataSet/tmp'\n",
    "file=os.listdir('D:/FallDataSet/tmp') \n",
    "MAX_NUM_WAVS_PER_CLASS=2*27-1\n",
    "train_percentage=60\n",
    "validation_percentage=80\n",
    "testing_percentage=90"
   ]
  },
  {
   "cell_type": "code",
   "execution_count": 4,
   "metadata": {
    "scrolled": true
   },
   "outputs": [
    {
     "name": "stdout",
     "output_type": "stream",
     "text": [
      "2020_000000.jpg\n"
     ]
    }
   ],
   "source": [
    "for filename in file:\n",
    "    print(filename)\n",
    "    base_name = os.path.basename(filename)\n",
    "    hash_name = re.sub(r'_2_.*$', '', base_name)\n",
    "    hash_name_hashed = hashlib.sha1(as_bytes(hash_name)).hexdigest()\n",
    "    percentage_hash = ((int(hash_name_hashed, 16) % (MAX_NUM_WAVS_PER_CLASS + 1)) *(100.0 / MAX_NUM_WAVS_PER_CLASS))\n",
    "    print(percentage_hash)\n",
    "    if train_percentage<percentage_hash < validation_percentage:\n",
    "        result = 'validation'\n",
    "    elif validation_percentage<percentage_hash < testing_percentage :\n",
    "        result = 'test'\n",
    "    else: \n",
    "        result = 'train'\n",
    "    file_src='D:/FallDataSet/tmp/' + filename\n",
    "    file_dst='D:/FallDataSet/'+result+'/'+filename\n",
    "    shutil.move(file_src,file_dst)\n"
   ]
  },
  {
   "cell_type": "code",
   "execution_count": null,
   "metadata": {},
   "outputs": [],
   "source": []
  }
 ],
 "metadata": {
  "kernelspec": {
   "display_name": "Python 3",
   "language": "python",
   "name": "python3"
  },
  "language_info": {
   "codemirror_mode": {
    "name": "ipython",
    "version": 3
   },
   "file_extension": ".py",
   "mimetype": "text/x-python",
   "name": "python",
   "nbconvert_exporter": "python",
   "pygments_lexer": "ipython3",
   "version": "3.6.12"
  }
 },
 "nbformat": 4,
 "nbformat_minor": 4
}
